{
  "metadata": {
    "kernelspec": {
      "language": "python",
      "display_name": "Python 3",
      "name": "python3"
    },
    "language_info": {
      "name": "python",
      "version": "3.10.13",
      "mimetype": "text/x-python",
      "codemirror_mode": {
        "name": "ipython",
        "version": 3
      },
      "pygments_lexer": "ipython3",
      "nbconvert_exporter": "python",
      "file_extension": ".py"
    },
    "kaggle": {
      "accelerator": "none",
      "dataSources": [
        {
          "sourceId": 7192428,
          "sourceType": "datasetVersion",
          "datasetId": 2871694
        }
      ],
      "dockerImageVersionId": 30646,
      "isInternetEnabled": false,
      "language": "python",
      "sourceType": "notebook",
      "isGpuEnabled": false
    },
    "colab": {
      "provenance": [],
      "name": "Assignment-1-DSMT"
    }
  },
  "nbformat_minor": 0,
  "nbformat": 4,
  "cells": [
    {
      "cell_type": "markdown",
      "source": [
        "## Abstract:\n",
        "In this notebook, we are going to dive into the world of game recommendations on Steam, the largest digital distribution platform for PC gaming. The aim of the Notebook is to check the quality of the data and determine which features are important. The notebook has used statistical methods like p-value, t-statistics and visualization techniques of python's matplotlib and seaborn library to answer below questions about the dataset\n",
        "\n",
        "* Which independent variables are useful to predict a target (dependent variable)?\n",
        "* Which independent variables have missing data? How much\n",
        "* Do the training and test sets have the same data?\n",
        "* In the predictor variables independent of all the other predictor variables?\n",
        "* Which predictor variables are the most important?\n",
        "* Do the ranges of the predictor variables make sense?\n",
        "* What are the distributions of the predictor variables?\n",
        "\n",
        "Overall, the data looks clean and there are no missing and inconsistent values. The significance of the predictors is investigated and it appears that three independent variables are significant, these results can be used to further optimize the model for predicting steam engine's recommendation and give better predictions"
      ],
      "metadata": {
        "id": "P-EP1Y84kCun"
      }
    },
    {
      "cell_type": "code",
      "source": [
        "import numpy as np # linear algebra\n",
        "import pandas as pd # data processing, CSV file I/O (e.g. pd.read_csv)"
      ],
      "metadata": {
        "_uuid": "8f2839f25d086af736a60e9eeb907d3b93b6e0e5",
        "_cell_guid": "b1076dfc-b9ad-4769-8c92-a6c4dae69d19",
        "id": "6RHUXKrfZOyG",
        "cellView": "form",
        "execution": {
          "iopub.status.busy": "2024-01-31T22:06:19.842743Z",
          "iopub.execute_input": "2024-01-31T22:06:19.843186Z",
          "iopub.status.idle": "2024-01-31T22:06:19.848739Z",
          "shell.execute_reply.started": "2024-01-31T22:06:19.843151Z",
          "shell.execute_reply": "2024-01-31T22:06:19.847922Z"
        },
        "trusted": true
      },
      "execution_count": 38,
      "outputs": []
    },
    {
      "cell_type": "code",
      "source": [
        "games_dir = \"https://raw.githubusercontent.com/ChandrasekaranN/INFO-DSE/main/games.csv\"\n",
        "\n",
        "games_df = pd.read_csv(games_dir)"
      ],
      "metadata": {
        "id": "6tJGS-qdb5Zm",
        "execution": {
          "iopub.status.busy": "2024-01-31T22:06:19.853486Z",
          "iopub.execute_input": "2024-01-31T22:06:19.853841Z",
          "iopub.status.idle": "2024-01-31T22:06:41.669131Z",
          "shell.execute_reply.started": "2024-01-31T22:06:19.853812Z",
          "shell.execute_reply": "2024-01-31T22:06:41.662684Z"
        },
        "trusted": true
      },
      "execution_count": 39,
      "outputs": []
    },
    {
      "cell_type": "code",
      "source": [
        "games_df.describe()"
      ],
      "metadata": {
        "colab": {
          "base_uri": "https://localhost:8080/",
          "height": 300
        },
        "id": "_g6fV-V8rX6h",
        "outputId": "0dbae13b-648d-4f12-e6d0-eb2a0e25074c",
        "execution": {
          "iopub.status.busy": "2024-01-31T22:06:41.670447Z",
          "iopub.status.idle": "2024-01-31T22:06:41.671074Z",
          "shell.execute_reply.started": "2024-01-31T22:06:41.670754Z",
          "shell.execute_reply": "2024-01-31T22:06:41.670778Z"
        },
        "trusted": true
      },
      "execution_count": 40,
      "outputs": [
        {
          "output_type": "execute_result",
          "data": {
            "text/plain": [
              "          Unnamed: 0        app_id          hours  positive_ratio  \\\n",
              "count  200000.000000  2.000000e+05  200000.000000   200000.000000   \n",
              "mean    99999.500000  6.199383e+05     200.332692       86.349050   \n",
              "std     57735.171256  5.063067e+05     236.004532        9.704719   \n",
              "min         0.000000  4.400000e+02       0.000000       49.000000   \n",
              "25%     49999.750000  2.557100e+05      30.900000       83.000000   \n",
              "50%     99999.500000  3.943600e+05      99.700000       88.000000   \n",
              "75%    149999.250000  1.091500e+06     283.600000       94.000000   \n",
              "max    199999.000000  2.208920e+06     999.900000       98.000000   \n",
              "\n",
              "       user_reviews    price_final  price_original       discount  \n",
              "count  2.000000e+05  200000.000000   200000.000000  200000.000000  \n",
              "mean   5.218914e+05      24.631364        0.342474       0.036750  \n",
              "std    1.247491e+06      19.057641        4.081598       1.355049  \n",
              "min    4.980000e+02       0.000000        0.000000       0.000000  \n",
              "25%    8.227700e+04      10.000000        0.000000       0.000000  \n",
              "50%    1.928740e+05      20.000000        0.000000       0.000000  \n",
              "75%    4.292060e+05      40.000000        0.000000       0.000000  \n",
              "max    7.494460e+06      70.000000       59.990000      50.000000  "
            ],
            "text/html": [
              "\n",
              "  <div id=\"df-530c1e84-db68-4d63-a77b-b1c9cb065c51\" class=\"colab-df-container\">\n",
              "    <div>\n",
              "<style scoped>\n",
              "    .dataframe tbody tr th:only-of-type {\n",
              "        vertical-align: middle;\n",
              "    }\n",
              "\n",
              "    .dataframe tbody tr th {\n",
              "        vertical-align: top;\n",
              "    }\n",
              "\n",
              "    .dataframe thead th {\n",
              "        text-align: right;\n",
              "    }\n",
              "</style>\n",
              "<table border=\"1\" class=\"dataframe\">\n",
              "  <thead>\n",
              "    <tr style=\"text-align: right;\">\n",
              "      <th></th>\n",
              "      <th>Unnamed: 0</th>\n",
              "      <th>app_id</th>\n",
              "      <th>hours</th>\n",
              "      <th>positive_ratio</th>\n",
              "      <th>user_reviews</th>\n",
              "      <th>price_final</th>\n",
              "      <th>price_original</th>\n",
              "      <th>discount</th>\n",
              "    </tr>\n",
              "  </thead>\n",
              "  <tbody>\n",
              "    <tr>\n",
              "      <th>count</th>\n",
              "      <td>200000.000000</td>\n",
              "      <td>2.000000e+05</td>\n",
              "      <td>200000.000000</td>\n",
              "      <td>200000.000000</td>\n",
              "      <td>2.000000e+05</td>\n",
              "      <td>200000.000000</td>\n",
              "      <td>200000.000000</td>\n",
              "      <td>200000.000000</td>\n",
              "    </tr>\n",
              "    <tr>\n",
              "      <th>mean</th>\n",
              "      <td>99999.500000</td>\n",
              "      <td>6.199383e+05</td>\n",
              "      <td>200.332692</td>\n",
              "      <td>86.349050</td>\n",
              "      <td>5.218914e+05</td>\n",
              "      <td>24.631364</td>\n",
              "      <td>0.342474</td>\n",
              "      <td>0.036750</td>\n",
              "    </tr>\n",
              "    <tr>\n",
              "      <th>std</th>\n",
              "      <td>57735.171256</td>\n",
              "      <td>5.063067e+05</td>\n",
              "      <td>236.004532</td>\n",
              "      <td>9.704719</td>\n",
              "      <td>1.247491e+06</td>\n",
              "      <td>19.057641</td>\n",
              "      <td>4.081598</td>\n",
              "      <td>1.355049</td>\n",
              "    </tr>\n",
              "    <tr>\n",
              "      <th>min</th>\n",
              "      <td>0.000000</td>\n",
              "      <td>4.400000e+02</td>\n",
              "      <td>0.000000</td>\n",
              "      <td>49.000000</td>\n",
              "      <td>4.980000e+02</td>\n",
              "      <td>0.000000</td>\n",
              "      <td>0.000000</td>\n",
              "      <td>0.000000</td>\n",
              "    </tr>\n",
              "    <tr>\n",
              "      <th>25%</th>\n",
              "      <td>49999.750000</td>\n",
              "      <td>2.557100e+05</td>\n",
              "      <td>30.900000</td>\n",
              "      <td>83.000000</td>\n",
              "      <td>8.227700e+04</td>\n",
              "      <td>10.000000</td>\n",
              "      <td>0.000000</td>\n",
              "      <td>0.000000</td>\n",
              "    </tr>\n",
              "    <tr>\n",
              "      <th>50%</th>\n",
              "      <td>99999.500000</td>\n",
              "      <td>3.943600e+05</td>\n",
              "      <td>99.700000</td>\n",
              "      <td>88.000000</td>\n",
              "      <td>1.928740e+05</td>\n",
              "      <td>20.000000</td>\n",
              "      <td>0.000000</td>\n",
              "      <td>0.000000</td>\n",
              "    </tr>\n",
              "    <tr>\n",
              "      <th>75%</th>\n",
              "      <td>149999.250000</td>\n",
              "      <td>1.091500e+06</td>\n",
              "      <td>283.600000</td>\n",
              "      <td>94.000000</td>\n",
              "      <td>4.292060e+05</td>\n",
              "      <td>40.000000</td>\n",
              "      <td>0.000000</td>\n",
              "      <td>0.000000</td>\n",
              "    </tr>\n",
              "    <tr>\n",
              "      <th>max</th>\n",
              "      <td>199999.000000</td>\n",
              "      <td>2.208920e+06</td>\n",
              "      <td>999.900000</td>\n",
              "      <td>98.000000</td>\n",
              "      <td>7.494460e+06</td>\n",
              "      <td>70.000000</td>\n",
              "      <td>59.990000</td>\n",
              "      <td>50.000000</td>\n",
              "    </tr>\n",
              "  </tbody>\n",
              "</table>\n",
              "</div>\n",
              "    <div class=\"colab-df-buttons\">\n",
              "\n",
              "  <div class=\"colab-df-container\">\n",
              "    <button class=\"colab-df-convert\" onclick=\"convertToInteractive('df-530c1e84-db68-4d63-a77b-b1c9cb065c51')\"\n",
              "            title=\"Convert this dataframe to an interactive table.\"\n",
              "            style=\"display:none;\">\n",
              "\n",
              "  <svg xmlns=\"http://www.w3.org/2000/svg\" height=\"24px\" viewBox=\"0 -960 960 960\">\n",
              "    <path d=\"M120-120v-720h720v720H120Zm60-500h600v-160H180v160Zm220 220h160v-160H400v160Zm0 220h160v-160H400v160ZM180-400h160v-160H180v160Zm440 0h160v-160H620v160ZM180-180h160v-160H180v160Zm440 0h160v-160H620v160Z\"/>\n",
              "  </svg>\n",
              "    </button>\n",
              "\n",
              "  <style>\n",
              "    .colab-df-container {\n",
              "      display:flex;\n",
              "      gap: 12px;\n",
              "    }\n",
              "\n",
              "    .colab-df-convert {\n",
              "      background-color: #E8F0FE;\n",
              "      border: none;\n",
              "      border-radius: 50%;\n",
              "      cursor: pointer;\n",
              "      display: none;\n",
              "      fill: #1967D2;\n",
              "      height: 32px;\n",
              "      padding: 0 0 0 0;\n",
              "      width: 32px;\n",
              "    }\n",
              "\n",
              "    .colab-df-convert:hover {\n",
              "      background-color: #E2EBFA;\n",
              "      box-shadow: 0px 1px 2px rgba(60, 64, 67, 0.3), 0px 1px 3px 1px rgba(60, 64, 67, 0.15);\n",
              "      fill: #174EA6;\n",
              "    }\n",
              "\n",
              "    .colab-df-buttons div {\n",
              "      margin-bottom: 4px;\n",
              "    }\n",
              "\n",
              "    [theme=dark] .colab-df-convert {\n",
              "      background-color: #3B4455;\n",
              "      fill: #D2E3FC;\n",
              "    }\n",
              "\n",
              "    [theme=dark] .colab-df-convert:hover {\n",
              "      background-color: #434B5C;\n",
              "      box-shadow: 0px 1px 3px 1px rgba(0, 0, 0, 0.15);\n",
              "      filter: drop-shadow(0px 1px 2px rgba(0, 0, 0, 0.3));\n",
              "      fill: #FFFFFF;\n",
              "    }\n",
              "  </style>\n",
              "\n",
              "    <script>\n",
              "      const buttonEl =\n",
              "        document.querySelector('#df-530c1e84-db68-4d63-a77b-b1c9cb065c51 button.colab-df-convert');\n",
              "      buttonEl.style.display =\n",
              "        google.colab.kernel.accessAllowed ? 'block' : 'none';\n",
              "\n",
              "      async function convertToInteractive(key) {\n",
              "        const element = document.querySelector('#df-530c1e84-db68-4d63-a77b-b1c9cb065c51');\n",
              "        const dataTable =\n",
              "          await google.colab.kernel.invokeFunction('convertToInteractive',\n",
              "                                                    [key], {});\n",
              "        if (!dataTable) return;\n",
              "\n",
              "        const docLinkHtml = 'Like what you see? Visit the ' +\n",
              "          '<a target=\"_blank\" href=https://colab.research.google.com/notebooks/data_table.ipynb>data table notebook</a>'\n",
              "          + ' to learn more about interactive tables.';\n",
              "        element.innerHTML = '';\n",
              "        dataTable['output_type'] = 'display_data';\n",
              "        await google.colab.output.renderOutput(dataTable, element);\n",
              "        const docLink = document.createElement('div');\n",
              "        docLink.innerHTML = docLinkHtml;\n",
              "        element.appendChild(docLink);\n",
              "      }\n",
              "    </script>\n",
              "  </div>\n",
              "\n",
              "\n",
              "<div id=\"df-13eb3cb2-d8ca-450a-99f8-247b9df8bd7f\">\n",
              "  <button class=\"colab-df-quickchart\" onclick=\"quickchart('df-13eb3cb2-d8ca-450a-99f8-247b9df8bd7f')\"\n",
              "            title=\"Suggest charts\"\n",
              "            style=\"display:none;\">\n",
              "\n",
              "<svg xmlns=\"http://www.w3.org/2000/svg\" height=\"24px\"viewBox=\"0 0 24 24\"\n",
              "     width=\"24px\">\n",
              "    <g>\n",
              "        <path d=\"M19 3H5c-1.1 0-2 .9-2 2v14c0 1.1.9 2 2 2h14c1.1 0 2-.9 2-2V5c0-1.1-.9-2-2-2zM9 17H7v-7h2v7zm4 0h-2V7h2v10zm4 0h-2v-4h2v4z\"/>\n",
              "    </g>\n",
              "</svg>\n",
              "  </button>\n",
              "\n",
              "<style>\n",
              "  .colab-df-quickchart {\n",
              "      --bg-color: #E8F0FE;\n",
              "      --fill-color: #1967D2;\n",
              "      --hover-bg-color: #E2EBFA;\n",
              "      --hover-fill-color: #174EA6;\n",
              "      --disabled-fill-color: #AAA;\n",
              "      --disabled-bg-color: #DDD;\n",
              "  }\n",
              "\n",
              "  [theme=dark] .colab-df-quickchart {\n",
              "      --bg-color: #3B4455;\n",
              "      --fill-color: #D2E3FC;\n",
              "      --hover-bg-color: #434B5C;\n",
              "      --hover-fill-color: #FFFFFF;\n",
              "      --disabled-bg-color: #3B4455;\n",
              "      --disabled-fill-color: #666;\n",
              "  }\n",
              "\n",
              "  .colab-df-quickchart {\n",
              "    background-color: var(--bg-color);\n",
              "    border: none;\n",
              "    border-radius: 50%;\n",
              "    cursor: pointer;\n",
              "    display: none;\n",
              "    fill: var(--fill-color);\n",
              "    height: 32px;\n",
              "    padding: 0;\n",
              "    width: 32px;\n",
              "  }\n",
              "\n",
              "  .colab-df-quickchart:hover {\n",
              "    background-color: var(--hover-bg-color);\n",
              "    box-shadow: 0 1px 2px rgba(60, 64, 67, 0.3), 0 1px 3px 1px rgba(60, 64, 67, 0.15);\n",
              "    fill: var(--button-hover-fill-color);\n",
              "  }\n",
              "\n",
              "  .colab-df-quickchart-complete:disabled,\n",
              "  .colab-df-quickchart-complete:disabled:hover {\n",
              "    background-color: var(--disabled-bg-color);\n",
              "    fill: var(--disabled-fill-color);\n",
              "    box-shadow: none;\n",
              "  }\n",
              "\n",
              "  .colab-df-spinner {\n",
              "    border: 2px solid var(--fill-color);\n",
              "    border-color: transparent;\n",
              "    border-bottom-color: var(--fill-color);\n",
              "    animation:\n",
              "      spin 1s steps(1) infinite;\n",
              "  }\n",
              "\n",
              "  @keyframes spin {\n",
              "    0% {\n",
              "      border-color: transparent;\n",
              "      border-bottom-color: var(--fill-color);\n",
              "      border-left-color: var(--fill-color);\n",
              "    }\n",
              "    20% {\n",
              "      border-color: transparent;\n",
              "      border-left-color: var(--fill-color);\n",
              "      border-top-color: var(--fill-color);\n",
              "    }\n",
              "    30% {\n",
              "      border-color: transparent;\n",
              "      border-left-color: var(--fill-color);\n",
              "      border-top-color: var(--fill-color);\n",
              "      border-right-color: var(--fill-color);\n",
              "    }\n",
              "    40% {\n",
              "      border-color: transparent;\n",
              "      border-right-color: var(--fill-color);\n",
              "      border-top-color: var(--fill-color);\n",
              "    }\n",
              "    60% {\n",
              "      border-color: transparent;\n",
              "      border-right-color: var(--fill-color);\n",
              "    }\n",
              "    80% {\n",
              "      border-color: transparent;\n",
              "      border-right-color: var(--fill-color);\n",
              "      border-bottom-color: var(--fill-color);\n",
              "    }\n",
              "    90% {\n",
              "      border-color: transparent;\n",
              "      border-bottom-color: var(--fill-color);\n",
              "    }\n",
              "  }\n",
              "</style>\n",
              "\n",
              "  <script>\n",
              "    async function quickchart(key) {\n",
              "      const quickchartButtonEl =\n",
              "        document.querySelector('#' + key + ' button');\n",
              "      quickchartButtonEl.disabled = true;  // To prevent multiple clicks.\n",
              "      quickchartButtonEl.classList.add('colab-df-spinner');\n",
              "      try {\n",
              "        const charts = await google.colab.kernel.invokeFunction(\n",
              "            'suggestCharts', [key], {});\n",
              "      } catch (error) {\n",
              "        console.error('Error during call to suggestCharts:', error);\n",
              "      }\n",
              "      quickchartButtonEl.classList.remove('colab-df-spinner');\n",
              "      quickchartButtonEl.classList.add('colab-df-quickchart-complete');\n",
              "    }\n",
              "    (() => {\n",
              "      let quickchartButtonEl =\n",
              "        document.querySelector('#df-13eb3cb2-d8ca-450a-99f8-247b9df8bd7f button');\n",
              "      quickchartButtonEl.style.display =\n",
              "        google.colab.kernel.accessAllowed ? 'block' : 'none';\n",
              "    })();\n",
              "  </script>\n",
              "</div>\n",
              "    </div>\n",
              "  </div>\n"
            ]
          },
          "metadata": {},
          "execution_count": 40
        }
      ]
    },
    {
      "cell_type": "code",
      "source": [
        "games_df.isnull().sum()"
      ],
      "metadata": {
        "id": "KpHtj3TbkmD0",
        "outputId": "cdc05795-d3a9-4169-dd28-0a27420afdf4",
        "colab": {
          "base_uri": "https://localhost:8080/"
        },
        "execution": {
          "iopub.status.busy": "2024-01-31T22:06:41.672668Z",
          "iopub.status.idle": "2024-01-31T22:06:41.673226Z",
          "shell.execute_reply.started": "2024-01-31T22:06:41.672946Z",
          "shell.execute_reply": "2024-01-31T22:06:41.672971Z"
        },
        "trusted": true
      },
      "execution_count": 41,
      "outputs": [
        {
          "output_type": "execute_result",
          "data": {
            "text/plain": [
              "Unnamed: 0        0\n",
              "is_recommended    0\n",
              "app_id            0\n",
              "hours             0\n",
              "title             0\n",
              "win               0\n",
              "mac               0\n",
              "linux             0\n",
              "rating            0\n",
              "positive_ratio    0\n",
              "user_reviews      0\n",
              "price_final       0\n",
              "price_original    0\n",
              "discount          0\n",
              "steam_deck        0\n",
              "dtype: int64"
            ]
          },
          "metadata": {},
          "execution_count": 41
        }
      ]
    },
    {
      "cell_type": "code",
      "source": [
        "games_df.dtypes"
      ],
      "metadata": {
        "id": "iWh2xdqDmML6",
        "outputId": "abdbec6a-83a5-46e6-bdc0-8ff64d665916",
        "colab": {
          "base_uri": "https://localhost:8080/"
        },
        "execution": {
          "iopub.status.busy": "2024-01-31T22:06:41.675749Z",
          "iopub.status.idle": "2024-01-31T22:06:41.676292Z",
          "shell.execute_reply.started": "2024-01-31T22:06:41.676025Z",
          "shell.execute_reply": "2024-01-31T22:06:41.676048Z"
        },
        "trusted": true
      },
      "execution_count": 42,
      "outputs": [
        {
          "output_type": "execute_result",
          "data": {
            "text/plain": [
              "Unnamed: 0          int64\n",
              "is_recommended       bool\n",
              "app_id              int64\n",
              "hours             float64\n",
              "title              object\n",
              "win                  bool\n",
              "mac                  bool\n",
              "linux                bool\n",
              "rating             object\n",
              "positive_ratio      int64\n",
              "user_reviews        int64\n",
              "price_final       float64\n",
              "price_original    float64\n",
              "discount          float64\n",
              "steam_deck           bool\n",
              "dtype: object"
            ]
          },
          "metadata": {},
          "execution_count": 42
        }
      ]
    },
    {
      "cell_type": "code",
      "source": [
        "import matplotlib.pyplot as plt\n",
        "import seaborn as sns\n",
        "\n",
        "f, axes = plt.subplots(2, 1, figsize=(20, 10))\n",
        "\n",
        "sns.boxplot(games_df, x='positive_ratio', ax=axes[0])\n",
        "sns.boxplot(games_df, x='price_final', ax=axes[1])\n",
        "plt.show()"
      ],
      "metadata": {
        "id": "UC4-zecvubpz",
        "outputId": "5c231a64-114a-475e-cc10-2b4234ea7fda",
        "colab": {
          "base_uri": "https://localhost:8080/",
          "height": 670
        },
        "execution": {
          "iopub.status.busy": "2024-01-31T22:06:41.680087Z",
          "iopub.status.idle": "2024-01-31T22:06:41.680761Z",
          "shell.execute_reply.started": "2024-01-31T22:06:41.680481Z",
          "shell.execute_reply": "2024-01-31T22:06:41.680505Z"
        },
        "trusted": true
      },
      "execution_count": 43,
      "outputs": [
        {
          "output_type": "display_data",
          "data": {
            "text/plain": [
              "<Figure size 2000x1000 with 2 Axes>"
            ],
            "image/png": "[encoded data removed]"
          },
          "metadata": {}
        }
      ]
    },
    {
      "cell_type": "code",
      "source": [
        "sns.boxplot(games_df['hours'].T)"
      ],
      "metadata": {
        "id": "CcCjfBWmiVlO",
        "execution": {
          "iopub.status.busy": "2024-01-31T22:06:41.68217Z",
          "iopub.status.idle": "2024-01-31T22:06:41.683181Z",
          "shell.execute_reply.started": "2024-01-31T22:06:41.68298Z",
          "shell.execute_reply": "2024-01-31T22:06:41.682999Z"
        },
        "trusted": true,
        "outputId": "7fc48cfb-d03f-4f35-d8fb-b2a73bfcefd8",
        "colab": {
          "base_uri": "https://localhost:8080/",
          "height": 428
        }
      },
      "execution_count": 44,
      "outputs": [
        {
          "output_type": "execute_result",
          "data": {
            "text/plain": [
              "<Axes: ylabel='hours'>"
            ]
          },
          "metadata": {},
          "execution_count": 44
        },
        {
          "output_type": "display_data",
          "data": {
            "text/plain": [
              "<Figure size 640x480 with 1 Axes>"
            ],
            "image/png": "[encoded data removed]"
          },
          "metadata": {}
        }
      ]
    },
    {
      "cell_type": "code",
      "source": [
        "count_ratings = games_df['rating'].value_counts()\n",
        "\n",
        "count_ratings.plot(kind='pie', autopct='%1.1f%%')\n",
        "plt.axis('equal')\n",
        "plt.show()"
      ],
      "metadata": {
        "colab": {
          "base_uri": "https://localhost:8080/",
          "height": 408
        },
        "id": "0S70yQamIFC0",
        "outputId": "edf8d604-ba45-4829-fb90-0db34632e045",
        "execution": {
          "iopub.status.busy": "2024-01-31T22:06:41.684351Z",
          "iopub.status.idle": "2024-01-31T22:06:41.685006Z",
          "shell.execute_reply.started": "2024-01-31T22:06:41.684766Z",
          "shell.execute_reply": "2024-01-31T22:06:41.684783Z"
        },
        "trusted": true
      },
      "execution_count": 45,
      "outputs": [
        {
          "output_type": "display_data",
          "data": {
            "text/plain": [
              "<Figure size 640x480 with 1 Axes>"
            ],
            "image/png": "[encoded data removed]"
          },
          "metadata": {}
        }
      ]
    },
    {
      "cell_type": "code",
      "source": [
        "platform_counts = games_df[['win', 'mac', 'linux']].sum()\n",
        "platforms = platform_counts.index\n",
        "\n",
        "plt.figure(figsize=(8, 8))\n",
        "_, labels, autopct = plt.pie(platform_counts, labels=platforms, autopct=lambda p: f'{p:.1f}%' ,startangle=90)\n",
        "\n",
        "cantidades = [f'{c} games' for c in platform_counts]\n",
        "\n",
        "for i, label in enumerate(labels):\n",
        "    label.set_text(f'{platforms[i]}\\n{cantidades[i]}')\n",
        "\n",
        "plt.show()"
      ],
      "metadata": {
        "execution": {
          "iopub.status.busy": "2024-01-31T22:06:41.686175Z",
          "iopub.status.idle": "2024-01-31T22:06:41.686806Z",
          "shell.execute_reply.started": "2024-01-31T22:06:41.686612Z",
          "shell.execute_reply": "2024-01-31T22:06:41.686629Z"
        },
        "trusted": true,
        "id": "g6PsoAxXkCut",
        "outputId": "5ef843c9-7399-41cc-f165-2604638a92ae",
        "colab": {
          "base_uri": "https://localhost:8080/",
          "height": 653
        }
      },
      "execution_count": 46,
      "outputs": [
        {
          "output_type": "display_data",
          "data": {
            "text/plain": [
              "<Figure size 800x800 with 1 Axes>"
            ],
            "image/png": "[encoded data removed]"
          },
          "metadata": {}
        }
      ]
    },
    {
      "cell_type": "code",
      "source": [
        "games_df.info()"
      ],
      "metadata": {
        "execution": {
          "iopub.status.busy": "2024-01-31T22:06:41.688023Z",
          "iopub.status.idle": "2024-01-31T22:06:41.688737Z",
          "shell.execute_reply.started": "2024-01-31T22:06:41.688542Z",
          "shell.execute_reply": "2024-01-31T22:06:41.68856Z"
        },
        "trusted": true,
        "id": "ozG2kuOhkCuu",
        "outputId": "c5aabb0e-f8d3-44d0-9577-92cf33fc089e",
        "colab": {
          "base_uri": "https://localhost:8080/"
        }
      },
      "execution_count": 47,
      "outputs": [
        {
          "output_type": "stream",
          "name": "stdout",
          "text": [
            "<class 'pandas.core.frame.DataFrame'>\n",
            "RangeIndex: 200000 entries, 0 to 199999\n",
            "Data columns (total 15 columns):\n",
            " #   Column          Non-Null Count   Dtype  \n",
            "---  ------          --------------   -----  \n",
            " 0   Unnamed: 0      200000 non-null  int64  \n",
            " 1   is_recommended  200000 non-null  bool   \n",
            " 2   app_id          200000 non-null  int64  \n",
            " 3   hours           200000 non-null  float64\n",
            " 4   title           200000 non-null  object \n",
            " 5   win             200000 non-null  bool   \n",
            " 6   mac             200000 non-null  bool   \n",
            " 7   linux           200000 non-null  bool   \n",
            " 8   rating          200000 non-null  object \n",
            " 9   positive_ratio  200000 non-null  int64  \n",
            " 10  user_reviews    200000 non-null  int64  \n",
            " 11  price_final     200000 non-null  float64\n",
            " 12  price_original  200000 non-null  float64\n",
            " 13  discount        200000 non-null  float64\n",
            " 14  steam_deck      200000 non-null  bool   \n",
            "dtypes: bool(5), float64(4), int64(4), object(2)\n",
            "memory usage: 16.2+ MB\n"
          ]
        }
      ]
    },
    {
      "cell_type": "code",
      "source": [
        "ratings_map = {\n",
        "    \"Overwhelmingly Positive\" : 9,\n",
        "    \"Mostly Positive\" : 8,\n",
        "    \"Very Positive\" : 7,\n",
        "    \"Positive\" : 6,\n",
        "    \"Mixed\" : 5,\n",
        "    \"Negative\" : 4,\n",
        "    \"Very Negative\" : 3,\n",
        "    \"Mostly Negative\" : 2,\n",
        "    \"Overwhelmingly Negative\" : 1\n",
        "}\n"
      ],
      "metadata": {
        "execution": {
          "iopub.status.busy": "2024-01-31T22:06:41.689814Z",
          "iopub.status.idle": "2024-01-31T22:06:41.690235Z",
          "shell.execute_reply.started": "2024-01-31T22:06:41.690047Z",
          "shell.execute_reply": "2024-01-31T22:06:41.690063Z"
        },
        "trusted": true,
        "id": "0Us18e2okCuu"
      },
      "execution_count": 48,
      "outputs": []
    },
    {
      "cell_type": "code",
      "source": [
        "games_df['rating'] = games_df['rating'].map(ratings_map)"
      ],
      "metadata": {
        "execution": {
          "iopub.status.busy": "2024-01-31T22:06:41.691423Z",
          "iopub.status.idle": "2024-01-31T22:06:41.691794Z",
          "shell.execute_reply.started": "2024-01-31T22:06:41.691611Z",
          "shell.execute_reply": "2024-01-31T22:06:41.691627Z"
        },
        "trusted": true,
        "id": "IMtW9nzWkCuu"
      },
      "execution_count": 49,
      "outputs": []
    },
    {
      "cell_type": "code",
      "source": [
        "f, axes = plt.subplots(3, 1, figsize=(20, 10))\n",
        "\n",
        "sns.boxplot(games_df, x='hours', ax=axes[0])\n",
        "sns.boxplot(games_df, x='positive_ratio', ax=axes[1])\n",
        "sns.boxplot(games_df, x='rating', ax=axes[2])\n",
        "plt.show()"
      ],
      "metadata": {
        "execution": {
          "iopub.status.busy": "2024-01-31T22:06:41.69325Z",
          "iopub.status.idle": "2024-01-31T22:06:41.693623Z",
          "shell.execute_reply.started": "2024-01-31T22:06:41.693439Z",
          "shell.execute_reply": "2024-01-31T22:06:41.693455Z"
        },
        "trusted": true,
        "id": "MuskCnd_kCuu",
        "outputId": "929d3ac8-0fb9-4929-8fdb-5cac10547b02",
        "colab": {
          "base_uri": "https://localhost:8080/",
          "height": 670
        }
      },
      "execution_count": 50,
      "outputs": [
        {
          "output_type": "display_data",
          "data": {
            "text/plain": [
              "<Figure size 2000x1000 with 3 Axes>"
            ],
            "image/png": "[encoded data removed]"
          },
          "metadata": {}
        }
      ]
    },
    {
      "cell_type": "code",
      "source": [
        "games_df['win'] = games_df['win'].astype(int)\n",
        "games_df['mac'] = games_df['mac'].astype(int)\n",
        "games_df['linux'] = games_df['linux'].astype(int)"
      ],
      "metadata": {
        "execution": {
          "iopub.status.busy": "2024-01-31T22:06:41.69488Z",
          "iopub.status.idle": "2024-01-31T22:06:41.695294Z",
          "shell.execute_reply.started": "2024-01-31T22:06:41.695107Z",
          "shell.execute_reply": "2024-01-31T22:06:41.695123Z"
        },
        "trusted": true,
        "id": "_ys3cn6hkCuu"
      },
      "execution_count": 51,
      "outputs": []
    },
    {
      "cell_type": "code",
      "source": [
        "games_df.columns"
      ],
      "metadata": {
        "execution": {
          "iopub.status.busy": "2024-01-31T22:06:41.698078Z",
          "iopub.status.idle": "2024-01-31T22:06:41.698977Z",
          "shell.execute_reply.started": "2024-01-31T22:06:41.698716Z",
          "shell.execute_reply": "2024-01-31T22:06:41.698737Z"
        },
        "trusted": true,
        "id": "IIGWrnv8kCuv",
        "outputId": "acc8e029-d203-4f5e-8505-84afbd775670",
        "colab": {
          "base_uri": "https://localhost:8080/"
        }
      },
      "execution_count": 52,
      "outputs": [
        {
          "output_type": "execute_result",
          "data": {
            "text/plain": [
              "Index(['Unnamed: 0', 'is_recommended', 'app_id', 'hours', 'title', 'win',\n",
              "       'mac', 'linux', 'rating', 'positive_ratio', 'user_reviews',\n",
              "       'price_final', 'price_original', 'discount', 'steam_deck'],\n",
              "      dtype='object')"
            ]
          },
          "metadata": {},
          "execution_count": 52
        }
      ]
    },
    {
      "cell_type": "code",
      "source": [
        "games_df.size"
      ],
      "metadata": {
        "execution": {
          "iopub.status.busy": "2024-01-31T22:06:41.700632Z",
          "iopub.status.idle": "2024-01-31T22:06:41.70109Z",
          "shell.execute_reply.started": "2024-01-31T22:06:41.700856Z",
          "shell.execute_reply": "2024-01-31T22:06:41.700874Z"
        },
        "trusted": true,
        "id": "ytutBlgskCuv",
        "outputId": "72bd3328-d353-4a2c-d16b-13520eab8fee",
        "colab": {
          "base_uri": "https://localhost:8080/"
        }
      },
      "execution_count": 53,
      "outputs": [
        {
          "output_type": "execute_result",
          "data": {
            "text/plain": [
              "3000000"
            ]
          },
          "metadata": {},
          "execution_count": 53
        }
      ]
    },
    {
      "cell_type": "code",
      "source": [
        "games_df.drop('Unnamed: 0',axis=1, inplace=True)"
      ],
      "metadata": {
        "id": "iqsiqP-_lcGM"
      },
      "execution_count": 54,
      "outputs": []
    },
    {
      "cell_type": "code",
      "source": [
        "correlation_matrix = games_df.drop('title', axis=1).corr()\n",
        "\n",
        "plt.figure(figsize=(20, 7))\n",
        "sns.heatmap(correlation_matrix, annot=True, cmap=\"RdYlGn\")"
      ],
      "metadata": {
        "execution": {
          "iopub.status.busy": "2024-01-31T22:06:41.702456Z",
          "iopub.status.idle": "2024-01-31T22:06:41.70285Z",
          "shell.execute_reply.started": "2024-01-31T22:06:41.702662Z",
          "shell.execute_reply": "2024-01-31T22:06:41.702679Z"
        },
        "trusted": true,
        "id": "AUElSWj1kCuv",
        "outputId": "35d4a6ce-dd04-44d4-c6cd-a49a6c174cfc",
        "colab": {
          "base_uri": "https://localhost:8080/",
          "height": 507
        }
      },
      "execution_count": 55,
      "outputs": [
        {
          "output_type": "execute_result",
          "data": {
            "text/plain": [
              "<Axes: >"
            ]
          },
          "metadata": {},
          "execution_count": 55
        },
        {
          "output_type": "display_data",
          "data": {
            "text/plain": [
              "<Figure size 2000x700 with 2 Axes>"
            ],
            "image/png": "[encoded data removed]"
          },
          "metadata": {}
        }
      ]
    },
    {
      "cell_type": "code",
      "source": [
        "target_variable = ['is_recommended']"
      ],
      "metadata": {
        "execution": {
          "iopub.status.busy": "2024-01-31T22:06:41.70446Z",
          "iopub.status.idle": "2024-01-31T22:06:41.704868Z",
          "shell.execute_reply.started": "2024-01-31T22:06:41.704666Z",
          "shell.execute_reply": "2024-01-31T22:06:41.704682Z"
        },
        "trusted": true,
        "id": "dw5McX_kkCuv"
      },
      "execution_count": 56,
      "outputs": []
    },
    {
      "cell_type": "code",
      "source": [
        "features = correlation_matrix[target_variable][correlation_matrix['is_recommended'] > 0.1].index.to_list()\n",
        "features.remove('is_recommended')\n",
        "features"
      ],
      "metadata": {
        "execution": {
          "iopub.status.busy": "2024-01-31T22:06:41.706071Z",
          "iopub.status.idle": "2024-01-31T22:06:41.706463Z",
          "shell.execute_reply.started": "2024-01-31T22:06:41.706276Z",
          "shell.execute_reply": "2024-01-31T22:06:41.706292Z"
        },
        "trusted": true,
        "id": "drxi6685kCuw",
        "outputId": "d893dd88-69fd-4ccb-d81f-c643683b5a52",
        "colab": {
          "base_uri": "https://localhost:8080/"
        }
      },
      "execution_count": 57,
      "outputs": [
        {
          "output_type": "execute_result",
          "data": {
            "text/plain": [
              "['rating', 'positive_ratio']"
            ]
          },
          "metadata": {},
          "execution_count": 57
        }
      ]
    },
    {
      "cell_type": "code",
      "source": [
        "from sklearn.ensemble import RandomForestClassifier\n",
        "from sklearn.model_selection import train_test_split\n",
        "\n",
        "X = games_df[features]\n",
        "y = games_df[target_variable]"
      ],
      "metadata": {
        "id": "o_Sl_q71KxLU",
        "execution": {
          "iopub.status.busy": "2024-01-31T22:06:41.710987Z",
          "iopub.status.idle": "2024-01-31T22:06:41.7114Z",
          "shell.execute_reply.started": "2024-01-31T22:06:41.711206Z",
          "shell.execute_reply": "2024-01-31T22:06:41.711223Z"
        },
        "trusted": true
      },
      "execution_count": 58,
      "outputs": []
    },
    {
      "cell_type": "code",
      "source": [
        "X.corr()"
      ],
      "metadata": {
        "execution": {
          "iopub.status.busy": "2024-01-31T22:06:41.713009Z",
          "iopub.status.idle": "2024-01-31T22:06:41.713411Z",
          "shell.execute_reply.started": "2024-01-31T22:06:41.713218Z",
          "shell.execute_reply": "2024-01-31T22:06:41.713235Z"
        },
        "trusted": true,
        "id": "eywMvY2HkCuw",
        "outputId": "dfad5ffa-5f00-46bf-f3c2-01bcd562f991",
        "colab": {
          "base_uri": "https://localhost:8080/",
          "height": 112
        }
      },
      "execution_count": 59,
      "outputs": [
        {
          "output_type": "execute_result",
          "data": {
            "text/plain": [
              "                  rating  positive_ratio\n",
              "rating          1.000000        0.663668\n",
              "positive_ratio  0.663668        1.000000"
            ],
            "text/html": [
              "\n",
              "  <div id=\"df-cd5fd826-535d-4aa5-aa82-51e36d3357cc\" class=\"colab-df-container\">\n",
              "    <div>\n",
              "<style scoped>\n",
              "    .dataframe tbody tr th:only-of-type {\n",
              "        vertical-align: middle;\n",
              "    }\n",
              "\n",
              "    .dataframe tbody tr th {\n",
              "        vertical-align: top;\n",
              "    }\n",
              "\n",
              "    .dataframe thead th {\n",
              "        text-align: right;\n",
              "    }\n",
              "</style>\n",
              "<table border=\"1\" class=\"dataframe\">\n",
              "  <thead>\n",
              "    <tr style=\"text-align: right;\">\n",
              "      <th></th>\n",
              "      <th>rating</th>\n",
              "      <th>positive_ratio</th>\n",
              "    </tr>\n",
              "  </thead>\n",
              "  <tbody>\n",
              "    <tr>\n",
              "      <th>rating</th>\n",
              "      <td>1.000000</td>\n",
              "      <td>0.663668</td>\n",
              "    </tr>\n",
              "    <tr>\n",
              "      <th>positive_ratio</th>\n",
              "      <td>0.663668</td>\n",
              "      <td>1.000000</td>\n",
              "    </tr>\n",
              "  </tbody>\n",
              "</table>\n",
              "</div>\n",
              "    <div class=\"colab-df-buttons\">\n",
              "\n",
              "  <div class=\"colab-df-container\">\n",
              "    <button class=\"colab-df-convert\" onclick=\"convertToInteractive('df-cd5fd826-535d-4aa5-aa82-51e36d3357cc')\"\n",
              "            title=\"Convert this dataframe to an interactive table.\"\n",
              "            style=\"display:none;\">\n",
              "\n",
              "  <svg xmlns=\"http://www.w3.org/2000/svg\" height=\"24px\" viewBox=\"0 -960 960 960\">\n",
              "    <path d=\"M120-120v-720h720v720H120Zm60-500h600v-160H180v160Zm220 220h160v-160H400v160Zm0 220h160v-160H400v160ZM180-400h160v-160H180v160Zm440 0h160v-160H620v160ZM180-180h160v-160H180v160Zm440 0h160v-160H620v160Z\"/>\n",
              "  </svg>\n",
              "    </button>\n",
              "\n",
              "  <style>\n",
              "    .colab-df-container {\n",
              "      display:flex;\n",
              "      gap: 12px;\n",
              "    }\n",
              "\n",
              "    .colab-df-convert {\n",
              "      background-color: #E8F0FE;\n",
              "      border: none;\n",
              "      border-radius: 50%;\n",
              "      cursor: pointer;\n",
              "      display: none;\n",
              "      fill: #1967D2;\n",
              "      height: 32px;\n",
              "      padding: 0 0 0 0;\n",
              "      width: 32px;\n",
              "    }\n",
              "\n",
              "    .colab-df-convert:hover {\n",
              "      background-color: #E2EBFA;\n",
              "      box-shadow: 0px 1px 2px rgba(60, 64, 67, 0.3), 0px 1px 3px 1px rgba(60, 64, 67, 0.15);\n",
              "      fill: #174EA6;\n",
              "    }\n",
              "\n",
              "    .colab-df-buttons div {\n",
              "      margin-bottom: 4px;\n",
              "    }\n",
              "\n",
              "    [theme=dark] .colab-df-convert {\n",
              "      background-color: #3B4455;\n",
              "      fill: #D2E3FC;\n",
              "    }\n",
              "\n",
              "    [theme=dark] .colab-df-convert:hover {\n",
              "      background-color: #434B5C;\n",
              "      box-shadow: 0px 1px 3px 1px rgba(0, 0, 0, 0.15);\n",
              "      filter: drop-shadow(0px 1px 2px rgba(0, 0, 0, 0.3));\n",
              "      fill: #FFFFFF;\n",
              "    }\n",
              "  </style>\n",
              "\n",
              "    <script>\n",
              "      const buttonEl =\n",
              "        document.querySelector('#df-cd5fd826-535d-4aa5-aa82-51e36d3357cc button.colab-df-convert');\n",
              "      buttonEl.style.display =\n",
              "        google.colab.kernel.accessAllowed ? 'block' : 'none';\n",
              "\n",
              "      async function convertToInteractive(key) {\n",
              "        const element = document.querySelector('#df-cd5fd826-535d-4aa5-aa82-51e36d3357cc');\n",
              "        const dataTable =\n",
              "          await google.colab.kernel.invokeFunction('convertToInteractive',\n",
              "                                                    [key], {});\n",
              "        if (!dataTable) return;\n",
              "\n",
              "        const docLinkHtml = 'Like what you see? Visit the ' +\n",
              "          '<a target=\"_blank\" href=https://colab.research.google.com/notebooks/data_table.ipynb>data table notebook</a>'\n",
              "          + ' to learn more about interactive tables.';\n",
              "        element.innerHTML = '';\n",
              "        dataTable['output_type'] = 'display_data';\n",
              "        await google.colab.output.renderOutput(dataTable, element);\n",
              "        const docLink = document.createElement('div');\n",
              "        docLink.innerHTML = docLinkHtml;\n",
              "        element.appendChild(docLink);\n",
              "      }\n",
              "    </script>\n",
              "  </div>\n",
              "\n",
              "\n",
              "<div id=\"df-0084b504-de3f-45fd-afc1-6f41ffed7fef\">\n",
              "  <button class=\"colab-df-quickchart\" onclick=\"quickchart('df-0084b504-de3f-45fd-afc1-6f41ffed7fef')\"\n",
              "            title=\"Suggest charts\"\n",
              "            style=\"display:none;\">\n",
              "\n",
              "<svg xmlns=\"http://www.w3.org/2000/svg\" height=\"24px\"viewBox=\"0 0 24 24\"\n",
              "     width=\"24px\">\n",
              "    <g>\n",
              "        <path d=\"M19 3H5c-1.1 0-2 .9-2 2v14c0 1.1.9 2 2 2h14c1.1 0 2-.9 2-2V5c0-1.1-.9-2-2-2zM9 17H7v-7h2v7zm4 0h-2V7h2v10zm4 0h-2v-4h2v4z\"/>\n",
              "    </g>\n",
              "</svg>\n",
              "  </button>\n",
              "\n",
              "<style>\n",
              "  .colab-df-quickchart {\n",
              "      --bg-color: #E8F0FE;\n",
              "      --fill-color: #1967D2;\n",
              "      --hover-bg-color: #E2EBFA;\n",
              "      --hover-fill-color: #174EA6;\n",
              "      --disabled-fill-color: #AAA;\n",
              "      --disabled-bg-color: #DDD;\n",
              "  }\n",
              "\n",
              "  [theme=dark] .colab-df-quickchart {\n",
              "      --bg-color: #3B4455;\n",
              "      --fill-color: #D2E3FC;\n",
              "      --hover-bg-color: #434B5C;\n",
              "      --hover-fill-color: #FFFFFF;\n",
              "      --disabled-bg-color: #3B4455;\n",
              "      --disabled-fill-color: #666;\n",
              "  }\n",
              "\n",
              "  .colab-df-quickchart {\n",
              "    background-color: var(--bg-color);\n",
              "    border: none;\n",
              "    border-radius: 50%;\n",
              "    cursor: pointer;\n",
              "    display: none;\n",
              "    fill: var(--fill-color);\n",
              "    height: 32px;\n",
              "    padding: 0;\n",
              "    width: 32px;\n",
              "  }\n",
              "\n",
              "  .colab-df-quickchart:hover {\n",
              "    background-color: var(--hover-bg-color);\n",
              "    box-shadow: 0 1px 2px rgba(60, 64, 67, 0.3), 0 1px 3px 1px rgba(60, 64, 67, 0.15);\n",
              "    fill: var(--button-hover-fill-color);\n",
              "  }\n",
              "\n",
              "  .colab-df-quickchart-complete:disabled,\n",
              "  .colab-df-quickchart-complete:disabled:hover {\n",
              "    background-color: var(--disabled-bg-color);\n",
              "    fill: var(--disabled-fill-color);\n",
              "    box-shadow: none;\n",
              "  }\n",
              "\n",
              "  .colab-df-spinner {\n",
              "    border: 2px solid var(--fill-color);\n",
              "    border-color: transparent;\n",
              "    border-bottom-color: var(--fill-color);\n",
              "    animation:\n",
              "      spin 1s steps(1) infinite;\n",
              "  }\n",
              "\n",
              "  @keyframes spin {\n",
              "    0% {\n",
              "      border-color: transparent;\n",
              "      border-bottom-color: var(--fill-color);\n",
              "      border-left-color: var(--fill-color);\n",
              "    }\n",
              "    20% {\n",
              "      border-color: transparent;\n",
              "      border-left-color: var(--fill-color);\n",
              "      border-top-color: var(--fill-color);\n",
              "    }\n",
              "    30% {\n",
              "      border-color: transparent;\n",
              "      border-left-color: var(--fill-color);\n",
              "      border-top-color: var(--fill-color);\n",
              "      border-right-color: var(--fill-color);\n",
              "    }\n",
              "    40% {\n",
              "      border-color: transparent;\n",
              "      border-right-color: var(--fill-color);\n",
              "      border-top-color: var(--fill-color);\n",
              "    }\n",
              "    60% {\n",
              "      border-color: transparent;\n",
              "      border-right-color: var(--fill-color);\n",
              "    }\n",
              "    80% {\n",
              "      border-color: transparent;\n",
              "      border-right-color: var(--fill-color);\n",
              "      border-bottom-color: var(--fill-color);\n",
              "    }\n",
              "    90% {\n",
              "      border-color: transparent;\n",
              "      border-bottom-color: var(--fill-color);\n",
              "    }\n",
              "  }\n",
              "</style>\n",
              "\n",
              "  <script>\n",
              "    async function quickchart(key) {\n",
              "      const quickchartButtonEl =\n",
              "        document.querySelector('#' + key + ' button');\n",
              "      quickchartButtonEl.disabled = true;  // To prevent multiple clicks.\n",
              "      quickchartButtonEl.classList.add('colab-df-spinner');\n",
              "      try {\n",
              "        const charts = await google.colab.kernel.invokeFunction(\n",
              "            'suggestCharts', [key], {});\n",
              "      } catch (error) {\n",
              "        console.error('Error during call to suggestCharts:', error);\n",
              "      }\n",
              "      quickchartButtonEl.classList.remove('colab-df-spinner');\n",
              "      quickchartButtonEl.classList.add('colab-df-quickchart-complete');\n",
              "    }\n",
              "    (() => {\n",
              "      let quickchartButtonEl =\n",
              "        document.querySelector('#df-0084b504-de3f-45fd-afc1-6f41ffed7fef button');\n",
              "      quickchartButtonEl.style.display =\n",
              "        google.colab.kernel.accessAllowed ? 'block' : 'none';\n",
              "    })();\n",
              "  </script>\n",
              "</div>\n",
              "    </div>\n",
              "  </div>\n"
            ]
          },
          "metadata": {},
          "execution_count": 59
        }
      ]
    },
    {
      "cell_type": "code",
      "source": [
        "X_train, X_test, y_train, y_test = train_test_split(X, y, test_size=0.2, random_state=69)\n",
        "\n",
        "model = RandomForestClassifier()\n",
        "model.fit(X_train, y_train)\n",
        "\n",
        "y_pred = model.predict(X_test)"
      ],
      "metadata": {
        "id": "P6RJDFB5jTRa",
        "execution": {
          "iopub.status.busy": "2024-01-31T22:06:41.714746Z",
          "iopub.status.idle": "2024-01-31T22:06:41.715329Z",
          "shell.execute_reply.started": "2024-01-31T22:06:41.714964Z",
          "shell.execute_reply": "2024-01-31T22:06:41.714982Z"
        },
        "trusted": true,
        "outputId": "89042d58-4003-4bb0-be84-93d85855ef3c",
        "colab": {
          "base_uri": "https://localhost:8080/"
        }
      },
      "execution_count": 60,
      "outputs": [
        {
          "output_type": "stream",
          "name": "stderr",
          "text": [
            "<ipython-input-60-42bac55abcfe>:4: DataConversionWarning: A column-vector y was passed when a 1d array was expected. Please change the shape of y to (n_samples,), for example using ravel().\n",
            "  model.fit(X_train, y_train)\n"
          ]
        }
      ]
    },
    {
      "cell_type": "code",
      "source": [
        "from sklearn.metrics import accuracy_score, confusion_matrix\n",
        "\n",
        "accuracy = accuracy_score(y_test, y_pred)\n",
        "print(f'Accuracy: {accuracy:.2f}')\n",
        "\n",
        "conf_matrix = confusion_matrix(y_test, y_pred)\n",
        "print('Confusion Matrix:')\n",
        "print(conf_matrix)"
      ],
      "metadata": {
        "execution": {
          "iopub.status.busy": "2024-01-31T22:06:41.71685Z",
          "iopub.status.idle": "2024-01-31T22:06:41.717298Z",
          "shell.execute_reply.started": "2024-01-31T22:06:41.717099Z",
          "shell.execute_reply": "2024-01-31T22:06:41.717116Z"
        },
        "trusted": true,
        "id": "xy_VE4wTkCux",
        "outputId": "8dbfc2f4-80f5-46f4-a79d-ae19191d22e0",
        "colab": {
          "base_uri": "https://localhost:8080/"
        }
      },
      "execution_count": 61,
      "outputs": [
        {
          "output_type": "stream",
          "name": "stdout",
          "text": [
            "Accuracy: 0.85\n",
            "Confusion Matrix:\n",
            "[[  101  6093]\n",
            " [   74 33732]]\n"
          ]
        }
      ]
    },
    {
      "cell_type": "code",
      "source": [
        "sns.pairplot(X)"
      ],
      "metadata": {
        "execution": {
          "iopub.status.busy": "2024-01-31T22:06:41.718762Z",
          "iopub.status.idle": "2024-01-31T22:06:41.719168Z",
          "shell.execute_reply.started": "2024-01-31T22:06:41.718976Z",
          "shell.execute_reply": "2024-01-31T22:06:41.718993Z"
        },
        "trusted": true,
        "id": "tPeK8e2ukCux",
        "outputId": "7fc5e9fd-8daf-4feb-e9d8-63c74172b3d1",
        "colab": {
          "base_uri": "https://localhost:8080/",
          "height": 530
        }
      },
      "execution_count": 62,
      "outputs": [
        {
          "output_type": "execute_result",
          "data": {
            "text/plain": [
              "<seaborn.axisgrid.PairGrid at 0x7d297fb0ecb0>"
            ]
          },
          "metadata": {},
          "execution_count": 62
        },
        {
          "output_type": "display_data",
          "data": {
            "text/plain": [
              "<Figure size 500x500 with 6 Axes>"
            ],
            "image/png": "[encoded data removed]"
          },
          "metadata": {}
        }
      ]
    },
    {
      "cell_type": "code",
      "source": [
        "target_variable = 'is_recommended'"
      ],
      "metadata": {
        "id": "9X1R9RMbLgzb"
      },
      "execution_count": 63,
      "outputs": []
    },
    {
      "cell_type": "code",
      "source": [
        "from sklearn.feature_selection import RFE\n",
        "\n",
        "y = games_df[target_variable]\n",
        "games_df.drop('title', axis=1, inplace=True)\n",
        "X = games_df.drop(target_variable,axis=1)\n",
        "\n",
        "model = RandomForestClassifier()\n",
        "rfe = RFE(model, n_features_to_select=3)\n",
        "rfe.fit(X, y)"
      ],
      "metadata": {
        "execution": {
          "iopub.status.busy": "2024-01-31T22:06:41.720624Z",
          "iopub.status.idle": "2024-01-31T22:06:41.721073Z",
          "shell.execute_reply.started": "2024-01-31T22:06:41.72084Z",
          "shell.execute_reply": "2024-01-31T22:06:41.720857Z"
        },
        "trusted": true,
        "id": "3HQtxKJ_kCux",
        "outputId": "d9a0b0fc-fa36-4925-aa98-dc5c5d2bd56e",
        "colab": {
          "base_uri": "https://localhost:8080/",
          "height": 118
        }
      },
      "execution_count": 64,
      "outputs": [
        {
          "output_type": "execute_result",
          "data": {
            "text/plain": [
              "RFE(estimator=RandomForestClassifier(), n_features_to_select=3)"
            ],
            "text/html": [
              "<style>#sk-container-id-2 {color: black;background-color: white;}#sk-container-id-2 pre{padding: 0;}#sk-container-id-2 div.sk-toggleable {background-color: white;}#sk-container-id-2 label.sk-toggleable__label {cursor: pointer;display: block;width: 100%;margin-bottom: 0;padding: 0.3em;box-sizing: border-box;text-align: center;}#sk-container-id-2 label.sk-toggleable__label-arrow:before {content: \"▸\";float: left;margin-right: 0.25em;color: #696969;}#sk-container-id-2 label.sk-toggleable__label-arrow:hover:before {color: black;}#sk-container-id-2 div.sk-estimator:hover label.sk-toggleable__label-arrow:before {color: black;}#sk-container-id-2 div.sk-toggleable__content {max-height: 0;max-width: 0;overflow: hidden;text-align: left;background-color: #f0f8ff;}#sk-container-id-2 div.sk-toggleable__content pre {margin: 0.2em;color: black;border-radius: 0.25em;background-color: #f0f8ff;}#sk-container-id-2 input.sk-toggleable__control:checked~div.sk-toggleable__content {max-height: 200px;max-width: 100%;overflow: auto;}#sk-container-id-2 input.sk-toggleable__control:checked~label.sk-toggleable__label-arrow:before {content: \"▾\";}#sk-container-id-2 div.sk-estimator input.sk-toggleable__control:checked~label.sk-toggleable__label {background-color: #d4ebff;}#sk-container-id-2 div.sk-label input.sk-toggleable__control:checked~label.sk-toggleable__label {background-color: #d4ebff;}#sk-container-id-2 input.sk-hidden--visually {border: 0;clip: rect(1px 1px 1px 1px);clip: rect(1px, 1px, 1px, 1px);height: 1px;margin: -1px;overflow: hidden;padding: 0;position: absolute;width: 1px;}#sk-container-id-2 div.sk-estimator {font-family: monospace;background-color: #f0f8ff;border: 1px dotted black;border-radius: 0.25em;box-sizing: border-box;margin-bottom: 0.5em;}#sk-container-id-2 div.sk-estimator:hover {background-color: #d4ebff;}#sk-container-id-2 div.sk-parallel-item::after {content: \"\";width: 100%;border-bottom: 1px solid gray;flex-grow: 1;}#sk-container-id-2 div.sk-label:hover label.sk-toggleable__label {background-color: #d4ebff;}#sk-container-id-2 div.sk-serial::before {content: \"\";position: absolute;border-left: 1px solid gray;box-sizing: border-box;top: 0;bottom: 0;left: 50%;z-index: 0;}#sk-container-id-2 div.sk-serial {display: flex;flex-direction: column;align-items: center;background-color: white;padding-right: 0.2em;padding-left: 0.2em;position: relative;}#sk-container-id-2 div.sk-item {position: relative;z-index: 1;}#sk-container-id-2 div.sk-parallel {display: flex;align-items: stretch;justify-content: center;background-color: white;position: relative;}#sk-container-id-2 div.sk-item::before, #sk-container-id-2 div.sk-parallel-item::before {content: \"\";position: absolute;border-left: 1px solid gray;box-sizing: border-box;top: 0;bottom: 0;left: 50%;z-index: -1;}#sk-container-id-2 div.sk-parallel-item {display: flex;flex-direction: column;z-index: 1;position: relative;background-color: white;}#sk-container-id-2 div.sk-parallel-item:first-child::after {align-self: flex-end;width: 50%;}#sk-container-id-2 div.sk-parallel-item:last-child::after {align-self: flex-start;width: 50%;}#sk-container-id-2 div.sk-parallel-item:only-child::after {width: 0;}#sk-container-id-2 div.sk-dashed-wrapped {border: 1px dashed gray;margin: 0 0.4em 0.5em 0.4em;box-sizing: border-box;padding-bottom: 0.4em;background-color: white;}#sk-container-id-2 div.sk-label label {font-family: monospace;font-weight: bold;display: inline-block;line-height: 1.2em;}#sk-container-id-2 div.sk-label-container {text-align: center;}#sk-container-id-2 div.sk-container {/* jupyter's `normalize.less` sets `[hidden] { display: none; }` but bootstrap.min.css set `[hidden] { display: none !important; }` so we also need the `!important` here to be able to override the default hidden behavior on the sphinx rendered scikit-learn.org. See: https://github.com/scikit-learn/scikit-learn/issues/21755 */display: inline-block !important;position: relative;}#sk-container-id-2 div.sk-text-repr-fallback {display: none;}</style><div id=\"sk-container-id-2\" class=\"sk-top-container\"><div class=\"sk-text-repr-fallback\"><pre>RFE(estimator=RandomForestClassifier(), n_features_to_select=3)</pre><b>In a Jupyter environment, please rerun this cell to show the HTML representation or trust the notebook. <br />On GitHub, the HTML representation is unable to render, please try loading this page with nbviewer.org.</b></div><div class=\"sk-container\" hidden><div class=\"sk-item sk-dashed-wrapped\"><div class=\"sk-label-container\"><div class=\"sk-label sk-toggleable\"><input class=\"sk-toggleable__control sk-hidden--visually\" id=\"sk-estimator-id-4\" type=\"checkbox\" ><label for=\"sk-estimator-id-4\" class=\"sk-toggleable__label sk-toggleable__label-arrow\">RFE</label><div class=\"sk-toggleable__content\"><pre>RFE(estimator=RandomForestClassifier(), n_features_to_select=3)</pre></div></div></div><div class=\"sk-parallel\"><div class=\"sk-parallel-item\"><div class=\"sk-item\"><div class=\"sk-label-container\"><div class=\"sk-label sk-toggleable\"><input class=\"sk-toggleable__control sk-hidden--visually\" id=\"sk-estimator-id-5\" type=\"checkbox\" ><label for=\"sk-estimator-id-5\" class=\"sk-toggleable__label sk-toggleable__label-arrow\">estimator: RandomForestClassifier</label><div class=\"sk-toggleable__content\"><pre>RandomForestClassifier()</pre></div></div></div><div class=\"sk-serial\"><div class=\"sk-item\"><div class=\"sk-estimator sk-toggleable\"><input class=\"sk-toggleable__control sk-hidden--visually\" id=\"sk-estimator-id-6\" type=\"checkbox\" ><label for=\"sk-estimator-id-6\" class=\"sk-toggleable__label sk-toggleable__label-arrow\">RandomForestClassifier</label><div class=\"sk-toggleable__content\"><pre>RandomForestClassifier()</pre></div></div></div></div></div></div></div></div></div></div>"
            ]
          },
          "metadata": {},
          "execution_count": 64
        }
      ]
    },
    {
      "cell_type": "code",
      "source": [
        "relevant_variables_rfe = X.columns[rfe.support_]\n",
        "relevant_variables_rfe"
      ],
      "metadata": {
        "execution": {
          "iopub.status.busy": "2024-01-31T22:06:41.723032Z",
          "iopub.status.idle": "2024-01-31T22:06:41.723445Z",
          "shell.execute_reply.started": "2024-01-31T22:06:41.723242Z",
          "shell.execute_reply": "2024-01-31T22:06:41.72326Z"
        },
        "trusted": true,
        "id": "stxa_NdikCux",
        "outputId": "fc98585c-ffec-4e5a-d875-0a79cbc67a49",
        "colab": {
          "base_uri": "https://localhost:8080/"
        }
      },
      "execution_count": 65,
      "outputs": [
        {
          "output_type": "execute_result",
          "data": {
            "text/plain": [
              "Index(['hours', 'positive_ratio', 'user_reviews'], dtype='object')"
            ]
          },
          "metadata": {},
          "execution_count": 65
        }
      ]
    },
    {
      "cell_type": "code",
      "source": [
        "model_rf = RandomForestClassifier()\n",
        "model_rf.fit(X, y)\n",
        "feature_importances = model_rf.feature_importances_\n",
        "relevant_variables_rf = X.columns[feature_importances.argsort()[::-1][:3]]\n",
        "relevant_variables_rf"
      ],
      "metadata": {
        "execution": {
          "iopub.status.busy": "2024-01-31T22:06:41.724641Z",
          "iopub.status.idle": "2024-01-31T22:06:41.725078Z",
          "shell.execute_reply.started": "2024-01-31T22:06:41.724846Z",
          "shell.execute_reply": "2024-01-31T22:06:41.724863Z"
        },
        "trusted": true,
        "id": "GWHwtEnYkCuy",
        "outputId": "4259c878-94c9-4268-83a4-6c9d0dd3811f",
        "colab": {
          "base_uri": "https://localhost:8080/"
        }
      },
      "execution_count": 66,
      "outputs": [
        {
          "output_type": "execute_result",
          "data": {
            "text/plain": [
              "Index(['hours', 'positive_ratio', 'rating'], dtype='object')"
            ]
          },
          "metadata": {},
          "execution_count": 66
        }
      ]
    },
    {
      "cell_type": "code",
      "source": [
        "features = relevant_variables_rfe.tolist()\n",
        "features"
      ],
      "metadata": {
        "execution": {
          "iopub.status.busy": "2024-01-31T22:06:41.726599Z",
          "iopub.status.idle": "2024-01-31T22:06:41.727032Z",
          "shell.execute_reply.started": "2024-01-31T22:06:41.726805Z",
          "shell.execute_reply": "2024-01-31T22:06:41.726821Z"
        },
        "trusted": true,
        "id": "UWzJg6fEkCuy",
        "outputId": "002487d8-b6f6-4770-d694-1ca487c299be",
        "colab": {
          "base_uri": "https://localhost:8080/"
        }
      },
      "execution_count": 67,
      "outputs": [
        {
          "output_type": "execute_result",
          "data": {
            "text/plain": [
              "['hours', 'positive_ratio', 'user_reviews']"
            ]
          },
          "metadata": {},
          "execution_count": 67
        }
      ]
    },
    {
      "cell_type": "code",
      "source": [
        "X_train, X_test, y_train, y_test = train_test_split(X[features], y, test_size=0.2, random_state=69)\n",
        "\n",
        "model = RandomForestClassifier()\n",
        "model.fit(X_train, y_train)\n",
        "\n",
        "y_pred = model.predict(X_test)"
      ],
      "metadata": {
        "execution": {
          "iopub.status.busy": "2024-01-31T22:06:41.72935Z",
          "iopub.status.idle": "2024-01-31T22:06:41.72974Z",
          "shell.execute_reply.started": "2024-01-31T22:06:41.729553Z",
          "shell.execute_reply": "2024-01-31T22:06:41.729569Z"
        },
        "trusted": true,
        "id": "0ndSqD44kCuz"
      },
      "execution_count": 68,
      "outputs": []
    },
    {
      "cell_type": "markdown",
      "source": [
        "### For categorical data, calculate the accuracy and a confusion matrix."
      ],
      "metadata": {
        "id": "iEMJW6RykCu0"
      }
    },
    {
      "cell_type": "code",
      "source": [
        "accuracy = accuracy_score(y_test, y_pred)\n",
        "print(f'Accuracy: {accuracy:.2f}')\n",
        "\n",
        "conf_matrix = confusion_matrix(y_test, y_pred)\n",
        "print('Confusion Matrix:')\n",
        "print(conf_matrix)"
      ],
      "metadata": {
        "execution": {
          "iopub.status.busy": "2024-01-31T22:06:41.730796Z",
          "iopub.status.idle": "2024-01-31T22:06:41.731188Z",
          "shell.execute_reply.started": "2024-01-31T22:06:41.731003Z",
          "shell.execute_reply": "2024-01-31T22:06:41.731019Z"
        },
        "trusted": true,
        "id": "SRE0W8qykCu0",
        "outputId": "97893d47-8e04-4609-df48-41696eadd8e5",
        "colab": {
          "base_uri": "https://localhost:8080/"
        }
      },
      "execution_count": 69,
      "outputs": [
        {
          "output_type": "stream",
          "name": "stdout",
          "text": [
            "Accuracy: 0.80\n",
            "Confusion Matrix:\n",
            "[[ 1780  4414]\n",
            " [ 3674 30132]]\n"
          ]
        }
      ]
    },
    {
      "cell_type": "code",
      "source": [
        "features = relevant_variables_rf.tolist()\n",
        "features"
      ],
      "metadata": {
        "execution": {
          "iopub.status.busy": "2024-01-31T22:06:41.732218Z",
          "iopub.status.idle": "2024-01-31T22:06:41.732604Z",
          "shell.execute_reply.started": "2024-01-31T22:06:41.73242Z",
          "shell.execute_reply": "2024-01-31T22:06:41.732436Z"
        },
        "trusted": true,
        "id": "aulzK7_7kCu0",
        "outputId": "22c7f754-5b48-461d-cdf5-05381746e1ef",
        "colab": {
          "base_uri": "https://localhost:8080/"
        }
      },
      "execution_count": 70,
      "outputs": [
        {
          "output_type": "execute_result",
          "data": {
            "text/plain": [
              "['hours', 'positive_ratio', 'rating']"
            ]
          },
          "metadata": {},
          "execution_count": 70
        }
      ]
    },
    {
      "cell_type": "code",
      "source": [
        "X_train, X_test, y_train, y_test = train_test_split(X[features], y, test_size=0.2, random_state=69)\n",
        "\n",
        "model = RandomForestClassifier()\n",
        "model.fit(X_train, y_train)\n",
        "\n",
        "y_pred = model.predict(X_test)\n",
        "\n",
        "accuracy = accuracy_score(y_test, y_pred)\n",
        "print(f'Accuracy: {accuracy:.2f}')\n",
        "\n",
        "conf_matrix = confusion_matrix(y_test, y_pred)\n",
        "print('Confusion Matrix:')\n",
        "print(conf_matrix)"
      ],
      "metadata": {
        "execution": {
          "iopub.status.busy": "2024-01-31T22:06:41.733725Z",
          "iopub.status.idle": "2024-01-31T22:06:41.734131Z",
          "shell.execute_reply.started": "2024-01-31T22:06:41.733941Z",
          "shell.execute_reply": "2024-01-31T22:06:41.733958Z"
        },
        "trusted": true,
        "id": "IT_ydPz0kCu0",
        "outputId": "05936ece-5f99-434d-f709-70a4122eca9f",
        "colab": {
          "base_uri": "https://localhost:8080/"
        }
      },
      "execution_count": 71,
      "outputs": [
        {
          "output_type": "stream",
          "name": "stdout",
          "text": [
            "Accuracy: 0.81\n",
            "Confusion Matrix:\n",
            "[[ 1540  4654]\n",
            " [ 3099 30707]]\n"
          ]
        }
      ]
    },
    {
      "cell_type": "markdown",
      "source": [
        "### Remove outliers and keep outliers (does if have an effect of the final predictive model)?"
      ],
      "metadata": {
        "id": "6aIBt4ZokCu0"
      }
    },
    {
      "cell_type": "code",
      "source": [
        "import pandas as pd\n",
        "from scipy.stats import zscore\n",
        "\n",
        "X = games_df.copy()\n",
        "print(\"Data with outliers:\", X.size)\n",
        "z_scores = zscore(X[relevant_variables_rf])\n",
        "\n",
        "threshold = 3\n",
        "\n",
        "outliers_mask = (abs(z_scores) > threshold).any(axis=1)\n",
        "\n",
        "Xdf_without_outliers = X.drop(X[outliers_mask].index)\n",
        "\n",
        "print(\"Data without outliers:\",Xdf_without_outliers.size)"
      ],
      "metadata": {
        "execution": {
          "iopub.status.busy": "2024-01-31T22:06:41.736391Z",
          "iopub.status.idle": "2024-01-31T22:06:41.736777Z",
          "shell.execute_reply.started": "2024-01-31T22:06:41.736585Z",
          "shell.execute_reply": "2024-01-31T22:06:41.736601Z"
        },
        "trusted": true,
        "id": "hOYKaZ1qkCu1",
        "outputId": "71da592a-184b-443d-bfb6-b2eb419e8796",
        "colab": {
          "base_uri": "https://localhost:8080/"
        }
      },
      "execution_count": 72,
      "outputs": [
        {
          "output_type": "stream",
          "name": "stdout",
          "text": [
            "Data with outliers: 2600000\n",
            "Data without outliers: 2506062\n"
          ]
        }
      ]
    },
    {
      "cell_type": "code",
      "source": [
        "y = Xdf_without_outliers[target_variable]\n",
        "X = Xdf_without_outliers.drop(target_variable, axis=1)"
      ],
      "metadata": {
        "execution": {
          "iopub.status.busy": "2024-01-31T22:06:41.73865Z",
          "iopub.status.idle": "2024-01-31T22:06:41.73907Z",
          "shell.execute_reply.started": "2024-01-31T22:06:41.738843Z",
          "shell.execute_reply": "2024-01-31T22:06:41.738859Z"
        },
        "trusted": true,
        "id": "AVXoANqOkCu5"
      },
      "execution_count": 74,
      "outputs": []
    },
    {
      "cell_type": "code",
      "source": [
        "X_train, X_test, y_train, y_test = train_test_split(X, y, test_size=0.2, random_state=69)\n",
        "\n",
        "model = RandomForestClassifier()\n",
        "model.fit(X_train, y_train)\n",
        "\n",
        "y_pred = model.predict(X_test)"
      ],
      "metadata": {
        "execution": {
          "iopub.status.busy": "2024-01-31T22:06:41.741986Z",
          "iopub.status.idle": "2024-01-31T22:06:41.742369Z",
          "shell.execute_reply.started": "2024-01-31T22:06:41.742176Z",
          "shell.execute_reply": "2024-01-31T22:06:41.742192Z"
        },
        "trusted": true,
        "id": "J8AaxzRAkCu6"
      },
      "execution_count": 75,
      "outputs": []
    },
    {
      "cell_type": "code",
      "source": [
        "accuracy = accuracy_score(y_test, y_pred)\n",
        "print(f'Accuracy: {accuracy:.2f}')\n",
        "\n",
        "conf_matrix = confusion_matrix(y_test, y_pred)\n",
        "print('Confusion Matrix:')\n",
        "print(conf_matrix)"
      ],
      "metadata": {
        "execution": {
          "iopub.status.busy": "2024-01-31T22:06:41.74449Z",
          "iopub.status.idle": "2024-01-31T22:06:41.74488Z",
          "shell.execute_reply.started": "2024-01-31T22:06:41.744685Z",
          "shell.execute_reply": "2024-01-31T22:06:41.744701Z"
        },
        "trusted": true,
        "id": "SaFcETCtkCu6",
        "outputId": "0fb0a1ca-1cf3-4c53-c588-248df86f7fef",
        "colab": {
          "base_uri": "https://localhost:8080/"
        }
      },
      "execution_count": 76,
      "outputs": [
        {
          "output_type": "stream",
          "name": "stdout",
          "text": [
            "Accuracy: 0.80\n",
            "Confusion Matrix:\n",
            "[[ 1557  4151]\n",
            " [ 3651 29196]]\n"
          ]
        }
      ]
    },
    {
      "cell_type": "markdown",
      "source": [
        "### Remove 1%, 5%, and 10% of your data randomly and impute the values back using at least 3 imputation methods. How well did the methods recover the missing values?  That is remove some data, check the % error on residuals for numeric data and check for bias and variance of the error."
      ],
      "metadata": {
        "id": "MIuDLYsOkCu7"
      }
    },
    {
      "cell_type": "code",
      "source": [
        "from sklearn.model_selection import train_test_split\n",
        "from sklearn.impute import SimpleImputer, KNNImputer\n",
        "from sklearn.linear_model import LogisticRegression\n",
        "from sklearn.metrics import accuracy_score, confusion_matrix\n",
        "\n",
        "df = games_df.copy()\n",
        "\n",
        "np.random.seed(42)\n",
        "\n",
        "percentages_to_remove = [0.01, 0.05, 0.1]\n",
        "\n",
        "numeric_columns = ['hours', 'rating', 'positive_ratio', 'user_reviews', 'price_final', 'price_original', 'discount', 'steam_deck']\n",
        "\n",
        "for percentage in percentages_to_remove:\n",
        "    num_rows = int(percentage * len(df))\n",
        "    indices_to_remove = np.random.choice(df.index, num_rows, replace=False)\n",
        "\n",
        "    removed_values = df.loc[indices_to_remove, numeric_columns].copy()\n",
        "\n",
        "    df.loc[indices_to_remove, numeric_columns] = np.nan\n",
        "\n",
        "    imputer_mean = SimpleImputer(strategy='mean')\n",
        "    imputer_median = SimpleImputer(strategy='median')\n",
        "\n",
        "    imputer_knn = KNNImputer(n_neighbors=5)\n",
        "    df_imputed_mean = pd.DataFrame(imputer_mean.fit_transform(df[numeric_columns]), columns=numeric_columns)\n",
        "    df_imputed_median = pd.DataFrame(imputer_median.fit_transform(df[numeric_columns]), columns=numeric_columns)\n",
        "    df_imputed_knn = pd.DataFrame(imputer_knn.fit_transform(df[numeric_columns]), columns=numeric_columns)\n",
        "\n",
        "    df_imputed_mean = pd.concat([df[['is_recommended']], df_imputed_mean], axis=1)\n",
        "    df_imputed_median = pd.concat([df[['is_recommended']], df_imputed_median], axis=1)\n",
        "    df_imputed_knn = pd.concat([df[['is_recommended']], df_imputed_knn], axis=1)\n",
        "\n",
        "    for df_imputed, method in zip([df_imputed_mean, df_imputed_median, df_imputed_knn], ['Mean', 'Median', 'KNN']):\n",
        "        X_train, X_test, y_train, y_test = train_test_split(df_imputed.drop('is_recommended', axis=1), df_imputed['is_recommended'], test_size=0.2, random_state=42)\n",
        "\n",
        "        model = LogisticRegression()\n",
        "        model.fit(X_train, y_train)\n",
        "\n",
        "        predictions = model.predict(X_test)\n",
        "        accuracy = accuracy_score(y_test, predictions)\n",
        "        confusion_mat = confusion_matrix(y_test, predictions)\n",
        "\n",
        "        print(f\"Imputation Method: {method}, Missing Percentage: {percentage * 100}%\")\n",
        "        print(f\"Accuracy: {accuracy:.4f}\")\n",
        "        print(\"Confusion Matrix:\")\n",
        "        print(confusion_mat)\n",
        "        print(\"\\n\")\n",
        "\n",
        "    df.loc[indices_to_remove, numeric_columns] = removed_values"
      ],
      "metadata": {
        "execution": {
          "iopub.status.busy": "2024-01-31T22:06:41.746214Z",
          "iopub.status.idle": "2024-01-31T22:06:41.746598Z",
          "shell.execute_reply.started": "2024-01-31T22:06:41.746411Z",
          "shell.execute_reply": "2024-01-31T22:06:41.746427Z"
        },
        "trusted": true,
        "id": "CgcfJSBgkCu7",
        "outputId": "74e3d4bb-cf76-4da8-9bdf-06a20d76ba2f",
        "colab": {
          "base_uri": "https://localhost:8080/"
        }
      },
      "execution_count": 77,
      "outputs": [
        {
          "output_type": "stream",
          "name": "stdout",
          "text": [
            "Imputation Method: Mean, Missing Percentage: 1.0%\n",
            "Accuracy: 0.8500\n",
            "Confusion Matrix:\n",
            "[[    0  5998]\n",
            " [    0 34002]]\n",
            "\n",
            "\n",
            "Imputation Method: Median, Missing Percentage: 1.0%\n",
            "Accuracy: 0.8500\n",
            "Confusion Matrix:\n",
            "[[    0  5998]\n",
            " [    0 34002]]\n",
            "\n",
            "\n",
            "Imputation Method: KNN, Missing Percentage: 1.0%\n",
            "Accuracy: 0.8500\n",
            "Confusion Matrix:\n",
            "[[    0  5998]\n",
            " [    0 34002]]\n",
            "\n",
            "\n",
            "Imputation Method: Mean, Missing Percentage: 5.0%\n",
            "Accuracy: 0.8500\n",
            "Confusion Matrix:\n",
            "[[    0  5998]\n",
            " [    0 34002]]\n",
            "\n",
            "\n",
            "Imputation Method: Median, Missing Percentage: 5.0%\n",
            "Accuracy: 0.8500\n",
            "Confusion Matrix:\n",
            "[[    0  5998]\n",
            " [    0 34002]]\n",
            "\n",
            "\n",
            "Imputation Method: KNN, Missing Percentage: 5.0%\n",
            "Accuracy: 0.8500\n",
            "Confusion Matrix:\n",
            "[[    0  5998]\n",
            " [    0 34002]]\n",
            "\n",
            "\n",
            "Imputation Method: Mean, Missing Percentage: 10.0%\n",
            "Accuracy: 0.8500\n",
            "Confusion Matrix:\n",
            "[[    0  5998]\n",
            " [    0 34002]]\n",
            "\n",
            "\n",
            "Imputation Method: Median, Missing Percentage: 10.0%\n",
            "Accuracy: 0.8500\n",
            "Confusion Matrix:\n",
            "[[    0  5998]\n",
            " [    0 34002]]\n",
            "\n",
            "\n",
            "Imputation Method: KNN, Missing Percentage: 10.0%\n",
            "Accuracy: 0.8500\n",
            "Confusion Matrix:\n",
            "[[    0  5998]\n",
            " [    0 34002]]\n",
            "\n",
            "\n"
          ]
        }
      ]
    },
    {
      "cell_type": "markdown",
      "source": [
        "### What are the data types? (Only numeric and categorical)\n",
        "    There are 18 numerical columns and 4 categorical columns.\n",
        "\n",
        "### Are there missing values?\n",
        "    No there are no missing values in the dataset.\n",
        "\n",
        "### What are the likely distributions of the numeric variables?\n",
        "    1. Looking at the Boxplot above, it appears that all independent variables are roughly following normal distribution.\n",
        "    2. There are few outliers in few of the predictor variables like in hours, positive_ratio and rating.\n",
        "    \n",
        "### Which independent variables are useful to predict a target (dependent variable)? (Use at least three methods)\n",
        "    1. Correlation Analysis\n",
        "    2. Recursive Feature Elimination\n",
        "    3. Feature Importance from Tree based Model\n",
        "\n",
        "### Which independent variables have missing data? How much?\n",
        "    There are no missing values in any of the columns.\n",
        "\n",
        "### Do the training and test sets have the same data?\n",
        "    To optimize memory usage due to the large dataset containing over a hundred million records, I'm downsizing the dataset to 50,000 data points for both training and testing. The test set will be constructed with a 20% split from the available data.\n",
        "\n",
        "### Is the predictor variables independent of all the other predictor variables?\n",
        "    For many pairs of variables, the correlation coefficients are close to 0, indicating a weak linear relationship.\n",
        "\n",
        "### Which predictor variables are the most important?\n",
        "    From the analysis of predicting the independent variable, it is evident that the \"positive_ratio\" has a significant impact. This conclusion is drawn from the observation that it exhibits a correlation greater than 0.5 with the target variable.\n",
        "\n",
        "### Do the ranges of the predictor variables make sense?\n",
        "    hours:\n",
        "    Interpretation: Higher values indicate more gameplay hours, which intuitively aligns with a potentially higher likelihood of being recommended.\n",
        "\n",
        "    positive_ratio:\n",
        "    Interpretation: A higher positive ratio suggests a higher proportion of positive reviews, which makes sense as games with more positive reviews might be more likely to be recommended.\n",
        "    \n",
        "    rating:\n",
        "    Range:\n",
        "    Interpretation: Higher ratings are associated with a higher likelihood of being recommended, aligning with the expectation that well-rated games are more likely to be recommended.\n",
        "\n",
        "### What are the distributions of the predictor variables?\n",
        "    Hours: Right-skewed, with a median of around 400 hours and a long tail extending to the right. There are a few outliers on the far right of the plot.\n",
        "    \n",
        "    Positive ratio: Approximately normally distributed, with a median of around 50 and a few outliers on both sides of the plot.\n",
        "    \n",
        "    Rating: Right-skewed, with a median of around 60 and a long tail extending to the right. There are a few outliers on the far right of the plot."
      ],
      "metadata": {
        "id": "6paFF95bkCu8"
      }
    },
    {
      "cell_type": "markdown",
      "source": [
        "## Conclusion:\n",
        "    The analysis revealed multicollinearity within the data, but only positive_ratio, hours, and rating emerged as statistically significant predictors."
      ],
      "metadata": {
        "id": "QCe4WBj0kCu9"
      }
    },
    {
      "cell_type": "markdown",
      "source": [
        "## References:\n",
        "Pandas - https://pandas.pydata.org/docs/\n",
        "\n",
        "NumPy - https://numpy.org/doc/stable/\n",
        "\n",
        "scikit-learn - https://scikit-learn.org/stable/auto_examples/index.html\n",
        "\n",
        "@article{scikit-learn,\n",
        "  title={Scikit-learn: Machine Learning in {P}ython},\n",
        "  author={Pedregosa, F. and Varoquaux, G. and Gramfort, A. and Michel, V.\n",
        "          and Thirion, B. and Grisel, O. and Blondel, M. and Prettenhofer, P.\n",
        "          and Weiss, R. and Dubourg, V. and Vanderplas, J. and Passos, A. and\n",
        "          Cournapeau, D. and Brucher, M. and Perrot, M. and Duchesnay, E.},\n",
        "  journal={Journal of Machine Learning Research},\n",
        "  volume={12},\n",
        "  pages={2825--2830},\n",
        "  year={2011}\n",
        "}\n"
      ],
      "metadata": {
        "id": "ta76xukpkCu9"
      }
    },
    {
      "cell_type": "markdown",
      "source": [
        "## License:\n",
        "MIT License\n",
        "\n",
        "Copyright (c) 2024 Nithish\n",
        "\n",
        "Permission is hereby granted, free of charge, to any person obtaining a copy\n",
        "of this software and associated documentation files (the \"Software\"), to deal\n",
        "in the Software without restriction, including without limitation the rights\n",
        "to use, copy, modify, merge, publish, distribute, sublicense, and/or sell\n",
        "copies of the Software, and to permit persons to whom the Software is\n",
        "furnished to do so, subject to the following conditions:\n",
        "\n",
        "The above copyright notice and this permission notice shall be included in all\n",
        "copies or substantial portions of the Software.\n",
        "\n",
        "THE SOFTWARE IS PROVIDED \"AS IS\", WITHOUT WARRANTY OF ANY KIND, EXPRESS OR\n",
        "IMPLIED, INCLUDING BUT NOT LIMITED TO THE WARRANTIES OF MERCHANTABILITY,\n",
        "FITNESS FOR A PARTICULAR PURPOSE AND NONINFRINGEMENT. IN NO EVENT SHALL THE\n",
        "AUTHORS OR COPYRIGHT HOLDERS BE LIABLE FOR ANY CLAIM, DAMAGES OR OTHER\n",
        "LIABILITY, WHETHER IN AN ACTION OF CONTRACT, TORT OR OTHERWISE, ARISING FROM,\n",
        "OUT OF OR IN CONNECTION WITH THE SOFTWARE OR THE USE OR OTHER DEALINGS IN THE\n",
        "SOFTWARE.\n"
      ],
      "metadata": {
        "id": "B_OpRHEQkCu-"
      }
    }
  ]
}